{
 "cells": [
  {
   "cell_type": "markdown",
   "id": "01f210ea",
   "metadata": {},
   "source": [
    "# keyword_preprocessing"
   ]
  },
  {
   "cell_type": "code",
   "execution_count": null,
   "id": "4041f393",
   "metadata": {},
   "outputs": [],
   "source": [
    "import re\n",
    "import pandas as pd\n",
    "import numpy as np\n",
    "import matplotlib.pyplot as plt\n",
    "\n",
    "from collections import Counter\n",
    "from konlpy.tag import Mecab\n",
    "from sklearn.model_selection import train_test_split\n",
    "from tensorflow.keras.preprocessing.text import Tokenizer \n",
    "from tensorflow.keras.preprocessing.sequence import pad_sequences\n",
    "from tqdm import tqdm\n",
    "from util import dbhelper"
   ]
  },
  {
   "cell_type": "markdown",
   "id": "925ca3c9",
   "metadata": {},
   "source": [
    "## 1. 데이터 전처리 (1)"
   ]
  },
  {
   "cell_type": "markdown",
   "id": "d434b8fb",
   "metadata": {},
   "source": [
    "### 1) 구두점, 이모지, 영어 제거"
   ]
  },
  {
   "cell_type": "code",
   "execution_count": 3,
   "id": "022f3fbe",
   "metadata": {},
   "outputs": [],
   "source": [
    "## 1) 구두점, 이모지, 영어 제거\n",
    "def only_ks(df):\n",
    "    df['review'] = df['review'].str.replace(\"[^ㄱ-ㅎㅏ-ㅣ가-힣 ]\",\"\")\n",
    "    df['review'].replace('', np.nan, inplace=True)\n",
    "    \n",
    "    return df"
   ]
  },
  {
   "cell_type": "markdown",
   "id": "4f86b456",
   "metadata": {},
   "source": [
    "### 2) null값 제거, index 재정렬"
   ]
  },
  {
   "cell_type": "code",
   "execution_count": 4,
   "id": "f98328e0",
   "metadata": {},
   "outputs": [],
   "source": [
    "## 2) null값 제거, index 재정렬\n",
    "def remove_null(df):\n",
    "    df.dropna(how='any', inplace=True)\n",
    "    df.reset_index(drop=True, inplace=True)\n",
    "    \n",
    "    return df"
   ]
  },
  {
   "cell_type": "markdown",
   "id": "767565b1",
   "metadata": {},
   "source": [
    "### 3) 자음/모음 중복 제거"
   ]
  },
  {
   "cell_type": "code",
   "execution_count": 5,
   "id": "1abf9a1a",
   "metadata": {},
   "outputs": [],
   "source": [
    "## 3) 자음/모음 중복 제거\n",
    "def no_repeat(df):\n",
    "    review_copy = df['review'].copy()\n",
    "    revised_review = []\n",
    "    for i in range(len(review_copy)):\n",
    "        temp = re.sub('[ㄱㄴㄷㄹㅁㅂㅅㅇㅈㅊㅋㅌㅍㅎㅃㅉㄸㄲㅆㅛㅕㅑㅐㅔㅗㅓㅏㅣㅜㅠㅡ]', '', review_copy[i])\n",
    "        revised_review.append(temp)\n",
    "\n",
    "    return df.assign(review = [i for i in revised_review])"
   ]
  },
  {
   "cell_type": "markdown",
   "id": "a8be4365",
   "metadata": {},
   "source": [
    "### 4) 공백만 있는 행 제거, index 재정렬"
   ]
  },
  {
   "cell_type": "code",
   "execution_count": 6,
   "id": "69d3cfc8",
   "metadata": {},
   "outputs": [],
   "source": [
    "## 4) 공백만 있는 행 제거, index 재정렬\n",
    "def remove_whitespace(df):\n",
    "    df['review'] = df['review'].str.replace('^ +', \"\")\n",
    "    df['review'].replace('', np.nan, inplace=True)\n",
    "    df.dropna(subset=['review'], inplace=True)\n",
    "    df.reset_index(drop=True, inplace=True)\n",
    "    \n",
    "    return df"
   ]
  },
  {
   "cell_type": "markdown",
   "id": "df67ecac",
   "metadata": {},
   "source": [
    "### 5) 중복행 제거, index 재정렬"
   ]
  },
  {
   "cell_type": "code",
   "execution_count": 7,
   "id": "cf4bf3dc",
   "metadata": {},
   "outputs": [],
   "source": [
    "## 5) 중복행 제거, index 재정렬\n",
    "def remove_dupli(df):\n",
    "    df.drop_duplicates(subset=['review'], inplace=True)\n",
    "    df.reset_index(drop=True, inplace=True)\n",
    "    \n",
    "    return df"
   ]
  },
  {
   "cell_type": "markdown",
   "id": "37d2f37f",
   "metadata": {},
   "source": [
    "### 6) 맞춤법 검사"
   ]
  },
  {
   "cell_type": "code",
   "execution_count": 8,
   "id": "466ae56b",
   "metadata": {},
   "outputs": [],
   "source": [
    "## 6) 맞춤법 검사\n",
    "import requests\n",
    "from hanspell import spell_checker\n",
    "from hanspell.constants import CheckResult\n",
    "\n",
    "def spell_check(df):\n",
    "    for i in tqdm(range(len(df))):\n",
    "        try:\n",
    "            if len(df['review'][i]) > 500:\n",
    "                continue\n",
    "            result_train = spell_checker.check(df['review'][i]) \n",
    "            df['review'][i] = result_train.as_dict()['checked']\n",
    "        except:\n",
    "            pass\n",
    "\n",
    "    return df"
   ]
  },
  {
   "cell_type": "markdown",
   "id": "8a62a603",
   "metadata": {},
   "source": [
    "## 2. 데이터 전처리 (2)"
   ]
  },
  {
   "cell_type": "markdown",
   "id": "125bfade",
   "metadata": {},
   "source": [
    "### 1) labeling"
   ]
  },
  {
   "cell_type": "code",
   "execution_count": 10,
   "id": "195df299",
   "metadata": {},
   "outputs": [
    {
     "data": {
      "text/html": [
       "<div>\n",
       "<style scoped>\n",
       "    .dataframe tbody tr th:only-of-type {\n",
       "        vertical-align: middle;\n",
       "    }\n",
       "\n",
       "    .dataframe tbody tr th {\n",
       "        vertical-align: top;\n",
       "    }\n",
       "\n",
       "    .dataframe thead th {\n",
       "        text-align: right;\n",
       "    }\n",
       "</style>\n",
       "<table border=\"1\" class=\"dataframe\">\n",
       "  <thead>\n",
       "    <tr style=\"text-align: right;\">\n",
       "      <th></th>\n",
       "      <th>name</th>\n",
       "      <th>score</th>\n",
       "      <th>review</th>\n",
       "      <th>label</th>\n",
       "    </tr>\n",
       "  </thead>\n",
       "  <tbody>\n",
       "    <tr>\n",
       "      <th>0</th>\n",
       "      <td>MUST STAY 호텔 선유도</td>\n",
       "      <td>5</td>\n",
       "      <td>좋은데 좁고 방음이 안돼요</td>\n",
       "      <td>1</td>\n",
       "    </tr>\n",
       "    <tr>\n",
       "      <th>1</th>\n",
       "      <td>MUST STAY 호텔 선유도</td>\n",
       "      <td>4</td>\n",
       "      <td>방 크기는 작아요 저렴해서 좋습니다 조명 밝아서 좋아요</td>\n",
       "      <td>0</td>\n",
       "    </tr>\n",
       "    <tr>\n",
       "      <th>2</th>\n",
       "      <td>MUST STAY 호텔 선유도</td>\n",
       "      <td>3</td>\n",
       "      <td>편하고 좋아요</td>\n",
       "      <td>0</td>\n",
       "    </tr>\n",
       "    <tr>\n",
       "      <th>3</th>\n",
       "      <td>MUST STAY 호텔 선유도</td>\n",
       "      <td>5</td>\n",
       "      <td>구성비가 좋았어요</td>\n",
       "      <td>1</td>\n",
       "    </tr>\n",
       "    <tr>\n",
       "      <th>4</th>\n",
       "      <td>MUST STAY 호텔 선유도</td>\n",
       "      <td>5</td>\n",
       "      <td>좋아요</td>\n",
       "      <td>1</td>\n",
       "    </tr>\n",
       "    <tr>\n",
       "      <th>...</th>\n",
       "      <td>...</td>\n",
       "      <td>...</td>\n",
       "      <td>...</td>\n",
       "      <td>...</td>\n",
       "    </tr>\n",
       "    <tr>\n",
       "      <th>178859</th>\n",
       "      <td>스타즈 호텔 독산</td>\n",
       "      <td>5</td>\n",
       "      <td>이부자리가 편했어요</td>\n",
       "      <td>1</td>\n",
       "    </tr>\n",
       "    <tr>\n",
       "      <th>178860</th>\n",
       "      <td>스타즈 호텔 독산</td>\n",
       "      <td>5</td>\n",
       "      <td>깨끗하고 시설도 깨끗하니 너무 좋아요</td>\n",
       "      <td>1</td>\n",
       "    </tr>\n",
       "    <tr>\n",
       "      <th>178861</th>\n",
       "      <td>스타즈 호텔 독산</td>\n",
       "      <td>5</td>\n",
       "      <td>좋아 요요 오옹</td>\n",
       "      <td>1</td>\n",
       "    </tr>\n",
       "    <tr>\n",
       "      <th>178862</th>\n",
       "      <td>스타즈 호텔 독산</td>\n",
       "      <td>5</td>\n",
       "      <td>엄청 친절하시고 방도 아담하고 편의점도 층에 있어서 편했어요</td>\n",
       "      <td>1</td>\n",
       "    </tr>\n",
       "    <tr>\n",
       "      <th>178863</th>\n",
       "      <td>스타즈 호텔 독산</td>\n",
       "      <td>5</td>\n",
       "      <td>거의 한 달에 두 번은 가는 거 같아요 너무 좋아요</td>\n",
       "      <td>1</td>\n",
       "    </tr>\n",
       "  </tbody>\n",
       "</table>\n",
       "<p>178864 rows × 4 columns</p>\n",
       "</div>"
      ],
      "text/plain": [
       "                    name  score                             review  label\n",
       "0       MUST STAY 호텔 선유도      5                     좋은데 좁고 방음이 안돼요      1\n",
       "1       MUST STAY 호텔 선유도      4     방 크기는 작아요 저렴해서 좋습니다 조명 밝아서 좋아요      0\n",
       "2       MUST STAY 호텔 선유도      3                            편하고 좋아요      0\n",
       "3       MUST STAY 호텔 선유도      5                          구성비가 좋았어요      1\n",
       "4       MUST STAY 호텔 선유도      5                                좋아요      1\n",
       "...                  ...    ...                                ...    ...\n",
       "178859         스타즈 호텔 독산      5                         이부자리가 편했어요      1\n",
       "178860         스타즈 호텔 독산      5               깨끗하고 시설도 깨끗하니 너무 좋아요      1\n",
       "178861         스타즈 호텔 독산      5                           좋아 요요 오옹      1\n",
       "178862         스타즈 호텔 독산      5  엄청 친절하시고 방도 아담하고 편의점도 층에 있어서 편했어요      1\n",
       "178863         스타즈 호텔 독산      5       거의 한 달에 두 번은 가는 거 같아요 너무 좋아요      1\n",
       "\n",
       "[178864 rows x 4 columns]"
      ]
     },
     "execution_count": 10,
     "metadata": {},
     "output_type": "execute_result"
    }
   ],
   "source": [
    "# score labeling \n",
    "data['key_label'] = np.select([data.key_score > 3], [1], default=0)\n",
    "data"
   ]
  },
  {
   "cell_type": "code",
   "execution_count": 11,
   "id": "42424d68",
   "metadata": {},
   "outputs": [
    {
     "name": "stderr",
     "output_type": "stream",
     "text": [
      "100%|███████████████████████████████| 178864/178864 [00:01<00:00, 123691.52it/s]"
     ]
    },
    {
     "name": "stdout",
     "output_type": "stream",
     "text": [
      "\n",
      "전체 리뷰 : 178864\n",
      "5점 리뷰 : 124516\n",
      "4점 이하 리뷰 : 54348\n"
     ]
    },
    {
     "name": "stderr",
     "output_type": "stream",
     "text": [
      "\n"
     ]
    }
   ],
   "source": [
    "posi = 0\n",
    "nega = 0\n",
    "for i in tqdm(range(len(data))):\n",
    "    if data['key_label'][i] > 3:\n",
    "        posi += 1\n",
    "    else:\n",
    "        nega += 1\n",
    "print(\"\\n전체 리뷰 : {}\".format(len(data['key_label'])))\n",
    "print(\"4점 이상 : {}\\n3점 이하 리뷰 : {}\".format(posi, nega))"
   ]
  },
  {
   "cell_type": "markdown",
   "id": "a2f3f00e",
   "metadata": {},
   "source": [
    "\n",
    "### 2) 훈련 데이터와 테스트 데이터 분리 (train: 야놀자 0.75 / test : 야놀자 0.25)"
   ]
  },
  {
   "cell_type": "code",
   "execution_count": 12,
   "id": "c1591f65",
   "metadata": {},
   "outputs": [
    {
     "name": "stdout",
     "output_type": "stream",
     "text": [
      "훈련용 리뷰의 개수 : 134148\n",
      "테스트용 리뷰의 개수 : 44716\n"
     ]
    }
   ],
   "source": [
    "train_data, test_data = train_test_split(data, test_size = 0.25, random_state = 42)\n",
    "print('훈련용 리뷰의 개수 :', len(train_data))\n",
    "print('테스트용 리뷰의 개수 :', len(test_data))"
   ]
  },
  {
   "cell_type": "markdown",
   "id": "831e6caf",
   "metadata": {},
   "source": [
    "### 3) 훈련 데이터의 레이블의 분포 확인"
   ]
  },
  {
   "cell_type": "code",
   "execution_count": 13,
   "id": "45b95681",
   "metadata": {},
   "outputs": [
    {
     "name": "stdout",
     "output_type": "stream",
     "text": [
      "   label  count\n",
      "0      0  40758\n",
      "1      1  93390\n"
     ]
    },
    {
     "data": {
      "image/png": "[encoded data removed]",
      "text/plain": [
       "<Figure size 432x288 with 1 Axes>"
      ]
     },
     "metadata": {
      "needs_background": "light"
     },
     "output_type": "display_data"
    }
   ],
   "source": [
    "train_data['key_label'].value_counts().plot(kind = 'bar')\n",
    "print(train_data.groupby('key_label').size().reset_index(name = 'count'))"
   ]
  },
  {
   "cell_type": "markdown",
   "id": "ab1989cf",
   "metadata": {},
   "source": [
    "### 4) 훈련/테스트 데이터 - 토큰화, 불용어 제거"
   ]
  },
  {
   "cell_type": "code",
   "execution_count": 14,
   "id": "689da4f9",
   "metadata": {},
   "outputs": [],
   "source": [
    "stop_words = ['있', '했', '었', '잘', '어', '어서', '거', '분', '주', '음', '고', '이', '하', '는', '에', '가', '도',\n",
    "             '았', '다', '게', '들', '어요', '습니다', '을', '아요', '같', '되', '한', '방', '에서', '지', '시', '것', '호텔',\n",
    "             '기', '라', '면', '나', '해서', '만', '합니다', '로', '요', '를', '해', '적', '으로', '많', '곳', '할', \n",
    "              '아서', '때', '서', '아', '의', '수', '보', '던', '빼', '물', '더', '과', '겠', '긴', '함', '니', '쉬', '건', \n",
    "              '듯', '인', '많이', '그리고', '예약', '였', '받', '번', '생각', '위치', '싶', '셨', '방문', '말', '점', '정도', \n",
    "              '네요', '은', '층', '바로', '갑니다', '먹', '숙소', '해요', '이용', '그', '오', '보다', '이랑', '으면', '또', \n",
    "              '데', '그래도', '라고', '두', '편', '까지', '된', '다고', '프런트', '체크인', '오래', '매우', '진짜', '정말']"
   ]
  },
  {
   "cell_type": "code",
   "execution_count": 15,
   "id": "4962c4ee",
   "metadata": {},
   "outputs": [],
   "source": [
    "# 훈련 데이터를 토큰화 후 필요없는 토큰은 제거\n",
    "mecab = Mecab()\n",
    "train_data['tokenized_review'] = train_data['review'].apply(mecab.morphs)\n",
    "train_data['tokenized_review'] = train_data['tokenized_review'].apply(lambda x: [item for item in x if item not in stop_words])"
   ]
  },
  {
   "cell_type": "code",
   "execution_count": 16,
   "id": "da929289",
   "metadata": {},
   "outputs": [],
   "source": [
    "# 테스트 데이터를 토큰화 후 필요없는 토큰은 제거\n",
    "test_data['tokenized_review'] = test_data['review'].apply(mecab.morphs)\n",
    "test_data['tokenized_review'] = test_data['tokenized_review'].apply(lambda x: [item for item in x if item not in stop_words])"
   ]
  },
  {
   "cell_type": "markdown",
   "id": "59bbb7aa",
   "metadata": {},
   "source": [
    "### 5) 단어와 길이 분포 확인하기"
   ]
  },
  {
   "cell_type": "code",
   "execution_count": 17,
   "id": "394e7a24",
   "metadata": {},
   "outputs": [],
   "source": [
    "# 각 레이블에 따라 단어들 리스트 저장\n",
    "positive_words = np.hstack(train_data[train_data.score_label == 1]['tokenized_review'].values)\n",
    "negative_words = np.hstack(train_data[train_data.score_label == 0]['tokenized_review'].values)"
   ]
  },
  {
   "cell_type": "code",
   "execution_count": 18,
   "id": "4c6ba4b4",
   "metadata": {},
   "outputs": [
    {
     "name": "stdout",
     "output_type": "stream",
     "text": [
      "[('좋', 67373), ('너무', 20312), ('친절', 14904), ('깨끗', 13786), ('깔끔', 12639), ('는데', 9567), ('직원', 7594), ('만족', 7558), ('지만', 7072), ('시설', 6420), ('최고', 5244), ('입니다', 5198), ('객실', 5088), ('없', 4919), ('안', 4778), ('뷰', 4612), ('편하', 4363), ('조식', 4260), ('좀', 4258), ('침대', 4147), ('청결', 3898), ('다음', 3746), ('굿', 3648), ('룸', 3586), ('가격', 3571), ('항상', 3480), ('아주', 3367), ('넓', 3332), ('조금', 3287), ('괜찮', 3244), ('서비스', 3155), ('구성비', 3077), ('않', 2958), ('왔', 2640), ('자주', 2624), ('셔서', 2584), ('접근성', 2446), ('다가', 2410), ('시간', 2275), ('맛있', 2259), ('주변', 2202), ('다만', 2105), ('호', 2094), ('주차', 2089), ('캉', 2083), ('편안', 2078), ('스', 2068), ('조용', 2050), ('감사', 1974), ('역', 1943)]\n"
     ]
    }
   ],
   "source": [
    "# 긍정 리뷰에 대해 빈도수가 높은 상위 20개 단어 출력\n",
    "positive_word_count = Counter(positive_words)\n",
    "print(positive_word_count.most_common(50))"
   ]
  },
  {
   "cell_type": "code",
   "execution_count": 19,
   "id": "b8c83880",
   "metadata": {},
   "outputs": [
    {
     "name": "stdout",
     "output_type": "stream",
     "text": [
      "[('좋', 24342), ('는데', 9534), ('안', 9393), ('너무', 7947), ('없', 6787), ('지만', 6070), ('좀', 5516), ('친절', 4957), ('않', 4747), ('직원', 4325), ('객실', 4143), ('깨끗', 4104), ('괜찮', 3815), ('깔끔', 3761), ('시설', 3271), ('침대', 3139), ('조금', 2981), ('화장실', 2885), ('소리', 2701), ('불편', 2640), ('청소', 2478), ('만족', 2348), ('청결', 2232), ('방음', 2221), ('가격', 2170), ('입니다', 2165), ('룸', 2141), ('냄새', 2137), ('조식', 2106), ('뷰', 2076), ('다른', 2056), ('먼지', 2034), ('그냥', 1959), ('시간', 1897), ('주차', 1860), ('별로', 1809), ('좁', 1785), ('서비스', 1768), ('작', 1721), ('더라고요', 1682), ('아니', 1679), ('못', 1660), ('다만', 1638), ('아쉬웠', 1634), ('은데', 1615), ('느낌', 1514), ('인데', 1451), ('다시', 1370), ('구성비', 1314), ('접근성', 1289)]\n"
     ]
    }
   ],
   "source": [
    "# 부정 리뷰에 대해 빈도수가 높은 상위 20개 단어 출력\n",
    "negative_word_count = Counter(negative_words)\n",
    "print(negative_word_count.most_common(50))"
   ]
  },
  {
   "cell_type": "code",
   "execution_count": 20,
   "id": "aca36555",
   "metadata": {},
   "outputs": [
    {
     "name": "stdout",
     "output_type": "stream",
     "text": [
      "긍정 리뷰의 평균 길이 : 7.9766\n",
      "부정 리뷰의 평균 길이 : 14.5044\n"
     ]
    },
    {
     "data": {
      "image/png": "[encoded data removed]",
      "text/plain": [
       "<Figure size 720x360 with 2 Axes>"
      ]
     },
     "metadata": {
      "needs_background": "light"
     },
     "output_type": "display_data"
    }
   ],
   "source": [
    "# 긍정 리뷰와 부정 리뷰의 길이 분포 확인\n",
    "fig,(ax1,ax2) = plt.subplots(1,2,figsize=(10,5))\n",
    "\n",
    "text_len = train_data[train_data['key_label']==1]['tokenized_review'].map(lambda x: len(x))\n",
    "ax1.hist(text_len, color='red')\n",
    "ax1.set_title('Positive Reviews')\n",
    "ax1.set_xlabel('length of samples')\n",
    "ax1.set_ylabel('number of samples')\n",
    "print('긍정 리뷰의 평균 길이 :', round(np.mean(text_len), 4))\n",
    "\n",
    "text_len = train_data[train_data['key_label']==0]['tokenized_review'].map(lambda x: len(x))\n",
    "ax2.hist(text_len, color='blue')\n",
    "ax2.set_title('Negative Reviews')\n",
    "fig.suptitle('Words in texts')\n",
    "ax2.set_xlabel('length of samples')\n",
    "ax2.set_ylabel('number of samples')\n",
    "print('부정 리뷰의 평균 길이 :', round(np.mean(text_len), 4))\n",
    "\n",
    "plt.show()"
   ]
  },
  {
   "cell_type": "code",
   "execution_count": 21,
   "id": "90122135",
   "metadata": {},
   "outputs": [],
   "source": [
    "# 훈련 데이터와 테스트 데이터 값 나눠어서 넣기\n",
    "X_train = train_data['tokenized_review'].values\n",
    "y_train = train_data['key_label'].values\n",
    "X_test= test_data['tokenized_review'].values\n",
    "y_test = test_data['key_label'].values"
   ]
  },
  {
   "cell_type": "markdown",
   "id": "7f055172",
   "metadata": {},
   "source": [
    "### 6) 정수 인코딩"
   ]
  },
  {
   "cell_type": "code",
   "execution_count": 22,
   "id": "449495be",
   "metadata": {},
   "outputs": [
    {
     "name": "stdout",
     "output_type": "stream",
     "text": [
      "단어 집합(vocabulary)의 크기 : 24263\n",
      "등장 빈도가 1번 이하인 희귀 단어의 수: 9792\n",
      "단어 집합에서 희귀 단어의 비율: 40.3577\n",
      "전체 등장 빈도에서 희귀 단어 등장 빈도 비율: 0.7329\n"
     ]
    }
   ],
   "source": [
    "# 훈련 데이터에 대해서 단어 집합 만들기\n",
    "tokenizer = Tokenizer()\n",
    "tokenizer.fit_on_texts(X_train)  \n",
    "\n",
    "\n",
    "threshold = 2\n",
    "total_cnt = len(tokenizer.word_index)\n",
    "rare_cnt = 0 \n",
    "total_freq = 0\n",
    "rare_freq = 0\n",
    "\n",
    "for key, value in tokenizer.word_counts.items():\n",
    "    total_freq = total_freq + value\n",
    "\n",
    "    if(value < threshold):\n",
    "        rare_cnt = rare_cnt + 1\n",
    "        rare_freq = rare_freq + value\n",
    "\n",
    "print('단어 집합(vocabulary)의 크기 :',total_cnt)\n",
    "print('등장 빈도가 %s번 이하인 희귀 단어의 수: %s'%(threshold - 1, rare_cnt))\n",
    "print(\"단어 집합에서 희귀 단어의 비율:\", round((rare_cnt / total_cnt)*100, 4))\n",
    "print(\"전체 등장 빈도에서 희귀 단어 등장 빈도 비율:\", round((rare_freq / total_freq)*100, 4))"
   ]
  },
  {
   "cell_type": "code",
   "execution_count": 23,
   "id": "244ae1f6",
   "metadata": {},
   "outputs": [
    {
     "name": "stdout",
     "output_type": "stream",
     "text": [
      "단어 집합의 크기 : 14473\n"
     ]
    }
   ],
   "source": [
    "# 전체 단어 개수 중 빈도수 2 이하인 단어 개수는 제거\n",
    "vocab_size = total_cnt - rare_cnt + 2\n",
    "print('단어 집합의 크기 :', vocab_size)"
   ]
  },
  {
   "cell_type": "code",
   "execution_count": 24,
   "id": "24dd33ed",
   "metadata": {},
   "outputs": [],
   "source": [
    "# 텍스트 시퀀스를 정수 시퀀스로 변환\n",
    "tokenizer = Tokenizer(vocab_size, oov_token = 'OOV') \n",
    "tokenizer.fit_on_texts(X_train)\n",
    "X_train = tokenizer.texts_to_sequences(X_train)\n",
    "X_test = tokenizer.texts_to_sequences(X_test)"
   ]
  },
  {
   "cell_type": "code",
   "execution_count": 25,
   "id": "a59e3e24",
   "metadata": {},
   "outputs": [
    {
     "name": "stdout",
     "output_type": "stream",
     "text": [
      "[[2, 1477, 20, 1869], [80, 92, 7], [116, 24]]\n",
      "[[846, 738], [1049, 2446, 4886], [7, 2, 1507, 2]]\n"
     ]
    }
   ],
   "source": [
    "# X_train 데이터의 상위 3개의 샘플만 출력\n",
    "print(X_train[:3])\n",
    "\n",
    "# X_test 데이터의 상위 3개의 샘플만 출력\n",
    "print(X_test[:3])"
   ]
  },
  {
   "cell_type": "markdown",
   "id": "7633b96e",
   "metadata": {},
   "source": [
    "### 7) 패딩"
   ]
  },
  {
   "cell_type": "code",
   "execution_count": 26,
   "id": "c4097809",
   "metadata": {},
   "outputs": [
    {
     "name": "stdout",
     "output_type": "stream",
     "text": [
      "리뷰의 최대 길이 : 433\n",
      "리뷰의 평균 길이 : 9.959954676923994\n"
     ]
    }
   ],
   "source": [
    "print('리뷰의 최대 길이 :',max(len(review) for review in X_train))\n",
    "print('리뷰의 평균 길이 :',sum(map(len, X_train))/len(X_train))"
   ]
  },
  {
   "cell_type": "code",
   "execution_count": 27,
   "id": "89e88cc8",
   "metadata": {},
   "outputs": [
    {
     "data": {
      "image/png": "[encoded data removed]",
      "text/plain": [
       "<Figure size 432x288 with 1 Axes>"
      ]
     },
     "metadata": {
      "needs_background": "light"
     },
     "output_type": "display_data"
    }
   ],
   "source": [
    "# 전체 데이터의 길이 분포\n",
    "plt.hist([len(review) for review in X_train], bins=50)\n",
    "plt.xlabel('length of samples')\n",
    "plt.ylabel('number of samples')\n",
    "plt.show()"
   ]
  },
  {
   "cell_type": "code",
   "execution_count": 28,
   "id": "9b514bab",
   "metadata": {},
   "outputs": [],
   "source": [
    "# 전체 샘플 중 최대 길이 이하인 샘플의 비율을 계산\n",
    "def below_threshold_len(max_len, nested_list):\n",
    "    count = 0\n",
    "    for sentence in nested_list:\n",
    "        if(len(sentence) <= max_len):\n",
    "            count += 1\n",
    "    print('전체 샘플 중 길이가 %s 이하인 샘플의 비율: %s'%(max_len, (count / len(nested_list))*100))"
   ]
  },
  {
   "cell_type": "code",
   "execution_count": 29,
   "id": "93f5228c",
   "metadata": {},
   "outputs": [
    {
     "name": "stdout",
     "output_type": "stream",
     "text": [
      "전체 샘플 중 길이가 425 이하인 샘플의 비율: 99.99850910934191\n"
     ]
    }
   ],
   "source": [
    "# 훈련용 리뷰에서 몇 개의 샘플들을 보전 가능한지 확인\n",
    "max_len = 425\n",
    "below_threshold_len(max_len, X_train)"
   ]
  },
  {
   "cell_type": "code",
   "execution_count": 30,
   "id": "3dc27cb4",
   "metadata": {},
   "outputs": [],
   "source": [
    "# 훈련용 리뷰를 max_len 길이로 패딩\n",
    "X_train = pad_sequences(X_train, maxlen=max_len)\n",
    "X_test = pad_sequences(X_test, maxlen=max_len)"
   ]
  },
  {
   "cell_type": "code",
   "execution_count": 29,
   "id": "4dc420dd",
   "metadata": {},
   "outputs": [
    {
     "name": "stdout",
     "output_type": "stream",
     "text": [
      "전체 샘플 중 길이가 425 이하인 샘플의 비율: 99.99850910934191\n"
     ]
    }
   ],
   "source": [
    "# 훈련용 리뷰에서 몇 개의 샘플들을 보전 가능한지 확인\n",
    "max_len = 425\n",
    "below_threshold_len(max_len, X_train)"
   ]
  }
 ],
 "metadata": {
  "kernelspec": {
   "display_name": "Python 3 (ipykernel)",
   "language": "python",
   "name": "python3"
  },
  "language_info": {
   "codemirror_mode": {
    "name": "ipython",
    "version": 3
   },
   "file_extension": ".py",
   "mimetype": "text/x-python",
   "name": "python",
   "nbconvert_exporter": "python",
   "pygments_lexer": "ipython3",
   "version": "3.8.2"
  }
 },
 "nbformat": 4,
 "nbformat_minor": 5
}
